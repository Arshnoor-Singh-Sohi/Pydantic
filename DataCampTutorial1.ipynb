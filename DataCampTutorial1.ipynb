{
 "cells": [
  {
   "cell_type": "markdown",
   "id": "70f6567a",
   "metadata": {},
   "source": [
    "#### Pydantic is Python’s most popular data validation library that can turn type hints into runtime validation rules.\n",
    "\n",
    "Pydantic solves this by combining three powerful concepts: type hints, runtime validation, and automatic serialization. Instead of manual checks, you define your data structure once using Python’s type annotation syntax, and Pydantic handles all the validation automatically:"
   ]
  },
  {
   "cell_type": "code",
   "execution_count": 2,
   "id": "8896ca45",
   "metadata": {},
   "outputs": [
    {
     "name": "stdout",
     "output_type": "stream",
     "text": [
      "25\n",
      "{'age': 25, 'email': 'john@example.com', 'is_active': True, 'nickname': None}\n"
     ]
    }
   ],
   "source": [
    "from pydantic import BaseModel, EmailStr\n",
    "from typing import Optional\n",
    "\n",
    "class User(BaseModel):\n",
    "    age: int\n",
    "    email: EmailStr\n",
    "    is_active: bool = True\n",
    "    nickname: Optional[str] = None\n",
    "\n",
    "# Pydantic automatically validates and converts data\n",
    "user_data = {\n",
    "   \"age\": \"25\",  # String gets converted to int\n",
    "   \"email\": \"john@example.com\",\n",
    "   \"is_active\": \"true\"  # String gets converted to bool\n",
    "}\n",
    "\n",
    "user = User(**user_data)\n",
    "print(user.age)  # 25 (as integer)\n",
    "print(user.model_dump())  # Clean dictionary output"
   ]
  },
  {
   "cell_type": "markdown",
   "id": "4674a164",
   "metadata": {},
   "source": [
    "* Pydantic’s core validation logic is written in Rust, making it faster than hand-written Python validation in most cases.\n",
    "\n",
    "FastAPI, one of Python’s fastest-growing web frameworks, uses Pydantic models to automatically generate API documentation, validate request bodies, and serialize responses. When you define a Pydantic model, you get OpenAPI schema generation for free:\n",
    "\n",
    "**Serialization = converting Python objects into a format that can be sent over the network or stored (like JSON, XML, or bytes).**\n",
    "\n",
    "---\n",
    "\n",
    "### Example with FastAPI + Pydantic\n",
    "\n",
    "Suppose you define a Pydantic model:\n",
    "\n",
    "```python\n",
    "from pydantic import BaseModel\n",
    "\n",
    "class User(BaseModel):\n",
    "    id: int\n",
    "    name: str\n",
    "    email: str\n",
    "```\n",
    "\n",
    "Now when FastAPI returns this model in an API response:\n",
    "\n",
    "```python\n",
    "@app.get(\"/user\", response_model=User)\n",
    "def get_user():\n",
    "    return User(id=1, name=\"Arshnoor\", email=\"test@example.com\")\n",
    "```\n",
    "\n",
    "FastAPI (with Pydantic) **serializes** it automatically into JSON:\n",
    "\n",
    "```json\n",
    "{\n",
    "  \"id\": 1,\n",
    "  \"name\": \"Arshnoor\",\n",
    "  \"email\": \"test@example.com\"\n",
    "}\n",
    "```\n",
    "\n",
    "---\n",
    "\n",
    "### In one line:\n",
    "\n",
    "**Serialization = turning Python objects into JSON (or another transferable format) so they can be sent to clients via an API.**\n",
    "\n",
    "---\n",
    "\n",
    "⚡ Flip side → **Deserialization** is the opposite: taking JSON input from an API request and converting it into Python objects.\n",
    "\n"
   ]
  },
  {
   "cell_type": "code",
   "execution_count": 4,
   "id": "7040a1fc",
   "metadata": {},
   "outputs": [],
   "source": [
    "from fastapi import FastAPI\n",
    "from pydantic import BaseModel\n",
    "\n",
    "app = FastAPI()\n",
    "\n",
    "class UserCreate(BaseModel):\n",
    "    name: str\n",
    "    email: EmailStr\n",
    "    age: int\n",
    "    \n",
    "@app.post(\"/users/\")\n",
    "async def create_user(user: UserCreate):\n",
    "    # FastAPI automatically validates the request body\n",
    "    # and generates API docs from your Pydantic model\n",
    "    return {\"message\": f\"Created user {user.name}\"}"
   ]
  },
  {
   "cell_type": "markdown",
   "id": "1c3e0b47",
   "metadata": {},
   "source": [
    "**“JSON schema generation happens automatically with every Pydantic model. This means your data structures become self-documenting, and you can generate client libraries, validation rules for frontend applications, or database schemas from the same source of truth.”**\n",
    "\n",
    "### Step by step:\n",
    "\n",
    "1. **JSON schema generation happens automatically**\n",
    "\n",
    "   * Whenever you create a `Pydantic` model, Python can automatically describe it in a standard JSON Schema format (a blueprint that explains what data looks like).\n",
    "   * Example:\n",
    "\n",
    "     ```python\n",
    "     from pydantic import BaseModel\n",
    "\n",
    "     class User(BaseModel):\n",
    "         id: int\n",
    "         name: str\n",
    "         email: str\n",
    "     ```\n",
    "\n",
    "     👉 Behind the scenes, this model can produce a **JSON Schema** like:\n",
    "\n",
    "     ```json\n",
    "     {\n",
    "       \"title\": \"User\",\n",
    "       \"type\": \"object\",\n",
    "       \"properties\": {\n",
    "         \"id\": {\"type\": \"integer\"},\n",
    "         \"name\": {\"type\": \"string\"},\n",
    "         \"email\": {\"type\": \"string\", \"format\": \"email\"}\n",
    "       },\n",
    "       \"required\": [\"id\", \"name\", \"email\"]\n",
    "     }\n",
    "     ```\n",
    "\n",
    "---\n",
    "\n",
    "2. **Self-documenting**\n",
    "\n",
    "   * You don’t need to write separate docs describing what fields your API expects.\n",
    "   * The schema itself **is the documentation** because it defines field types, required fields, and constraints.\n",
    "\n",
    "---\n",
    "\n",
    "3. **Same source of truth**\n",
    "\n",
    "   * Instead of writing separate definitions for backend, frontend, and database, you only write your **Pydantic model once**, and all others can be generated from it:\n",
    "\n",
    "     * **Client libraries** → auto-generate TypeScript clients from JSON Schema.\n",
    "     * **Frontend validation** → use JSON Schema to validate user input in forms.\n",
    "     * **Database schemas** → some tools can map JSON Schema to SQL/NoSQL schema.\n",
    "\n",
    "---\n",
    "\n",
    "✅ **In plain words**:\n",
    "When you define a Pydantic model, it not only validates your data in Python, but also produces a **universal blueprint (JSON Schema)**. This blueprint can be reused across backend, frontend, and even databases — meaning less duplication, fewer errors, and automatic documentation."
   ]
  },
  {
   "cell_type": "markdown",
   "id": "d0062215",
   "metadata": {},
   "source": [
    "Python’s `@dataclass` is perfect for simple data containers where you trust the input, but Pydantic excels when you need validation, serialization, and integration with web frameworks:"
   ]
  },
  {
   "cell_type": "code",
   "execution_count": null,
   "id": "5f9cdb27",
   "metadata": {},
   "outputs": [
    {
     "ename": "",
     "evalue": "",
     "output_type": "error",
     "traceback": [
      "\u001b[1;31mThe Kernel crashed while executing code in the current cell or a previous cell. \n",
      "\u001b[1;31mPlease review the code in the cell(s) to identify a possible cause of the failure. \n",
      "\u001b[1;31mClick <a href='https://aka.ms/vscodeJupyterKernelCrash'>here</a> for more info. \n",
      "\u001b[1;31mView Jupyter <a href='command:jupyter.viewOutput'>log</a> for further details."
     ]
    }
   ],
   "source": [
    "from dataclasses import dataclass\n",
    "from pydantic import BaseModel\n",
    "\n",
    "# Dataclass: fast, simple, no validation\n",
    "@dataclass\n",
    "class UserDataclass:\n",
    "    name: str\n",
    "    age: int\n",
    "\n",
    "# Pydantic: validation, serialization, framework integration\n",
    "class UserPydantic(BaseModel):\n",
    "    name: str\n",
    "    age: int"
   ]
  },
  {
   "cell_type": "code",
   "execution_count": null,
   "id": "3f2d76f8",
   "metadata": {},
   "outputs": [],
   "source": []
  }
 ],
 "metadata": {
  "kernelspec": {
   "display_name": ".venv",
   "language": "python",
   "name": "python3"
  },
  "language_info": {
   "codemirror_mode": {
    "name": "ipython",
    "version": 3
   },
   "file_extension": ".py",
   "mimetype": "text/x-python",
   "name": "python",
   "nbconvert_exporter": "python",
   "pygments_lexer": "ipython3",
   "version": "3.11.9"
  }
 },
 "nbformat": 4,
 "nbformat_minor": 5
}
