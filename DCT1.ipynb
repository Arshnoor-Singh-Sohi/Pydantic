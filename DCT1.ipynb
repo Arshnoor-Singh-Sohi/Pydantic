{
 "cells": [
  {
   "cell_type": "markdown",
   "id": "70f6567a",
   "metadata": {},
   "source": [
    "#### Pydantic is Python’s most popular data validation library that can turn type hints into runtime validation rules.\n",
    "\n",
    "Pydantic solves this by combining three powerful concepts: type hints, runtime validation, and automatic serialization. Instead of manual checks, you define your data structure once using Python’s type annotation syntax, and Pydantic handles all the validation automatically:"
   ]
  },
  {
   "cell_type": "code",
   "execution_count": 2,
   "id": "8896ca45",
   "metadata": {},
   "outputs": [
    {
     "name": "stdout",
     "output_type": "stream",
     "text": [
      "25\n",
      "{'age': 25, 'email': 'john@example.com', 'is_active': True, 'nickname': None}\n"
     ]
    }
   ],
   "source": [
    "from pydantic import BaseModel, EmailStr\n",
    "from typing import Optional\n",
    "\n",
    "class User(BaseModel):\n",
    "    age: int\n",
    "    email: EmailStr\n",
    "    is_active: bool = True\n",
    "    nickname: Optional[str] = None\n",
    "\n",
    "# Pydantic automatically validates and converts data\n",
    "user_data = {\n",
    "   \"age\": \"25\",  # String gets converted to int\n",
    "   \"email\": \"john@example.com\",\n",
    "   \"is_active\": \"true\"  # String gets converted to bool\n",
    "}\n",
    "\n",
    "user = User(**user_data)\n",
    "print(user.age)  # 25 (as integer)\n",
    "print(user.model_dump())  # Clean dictionary output"
   ]
  },
  {
   "cell_type": "markdown",
   "id": "4674a164",
   "metadata": {},
   "source": [
    "* Pydantic’s core validation logic is written in Rust, making it faster than hand-written Python validation in most cases.\n",
    "\n",
    "FastAPI, one of Python’s fastest-growing web frameworks, uses Pydantic models to automatically generate API documentation, validate request bodies, and serialize responses. When you define a Pydantic model, you get OpenAPI schema generation for free:\n",
    "\n",
    "**Serialization = converting Python objects into a format that can be sent over the network or stored (like JSON, XML, or bytes).**\n",
    "\n",
    "---\n",
    "\n",
    "### Example with FastAPI + Pydantic\n",
    "\n",
    "Suppose you define a Pydantic model:\n",
    "\n",
    "```python\n",
    "from pydantic import BaseModel\n",
    "\n",
    "class User(BaseModel):\n",
    "    id: int\n",
    "    name: str\n",
    "    email: str\n",
    "```\n",
    "\n",
    "Now when FastAPI returns this model in an API response:\n",
    "\n",
    "```python\n",
    "@app.get(\"/user\", response_model=User)\n",
    "def get_user():\n",
    "    return User(id=1, name=\"Arshnoor\", email=\"test@example.com\")\n",
    "```\n",
    "\n",
    "FastAPI (with Pydantic) **serializes** it automatically into JSON:\n",
    "\n",
    "```json\n",
    "{\n",
    "  \"id\": 1,\n",
    "  \"name\": \"Arshnoor\",\n",
    "  \"email\": \"test@example.com\"\n",
    "}\n",
    "```\n",
    "\n",
    "---\n",
    "\n",
    "### In one line:\n",
    "\n",
    "**Serialization = turning Python objects into JSON (or another transferable format) so they can be sent to clients via an API.**\n",
    "\n",
    "---\n",
    "\n",
    "⚡ Flip side → **Deserialization** is the opposite: taking JSON input from an API request and converting it into Python objects.\n",
    "\n"
   ]
  },
  {
   "cell_type": "code",
   "execution_count": 4,
   "id": "7040a1fc",
   "metadata": {},
   "outputs": [],
   "source": [
    "from fastapi import FastAPI\n",
    "from pydantic import BaseModel\n",
    "\n",
    "app = FastAPI()\n",
    "\n",
    "class UserCreate(BaseModel):\n",
    "    name: str\n",
    "    email: EmailStr\n",
    "    age: int\n",
    "    \n",
    "@app.post(\"/users/\")\n",
    "async def create_user(user: UserCreate):\n",
    "    # FastAPI automatically validates the request body\n",
    "    # and generates API docs from your Pydantic model\n",
    "    return {\"message\": f\"Created user {user.name}\"}"
   ]
  },
  {
   "cell_type": "markdown",
   "id": "1c3e0b47",
   "metadata": {},
   "source": [
    "**“JSON schema generation happens automatically with every Pydantic model. This means your data structures become self-documenting, and you can generate client libraries, validation rules for frontend applications, or database schemas from the same source of truth.”**\n",
    "\n",
    "### Step by step:\n",
    "\n",
    "1. **JSON schema generation happens automatically**\n",
    "\n",
    "   * Whenever you create a `Pydantic` model, Python can automatically describe it in a standard JSON Schema format (a blueprint that explains what data looks like).\n",
    "   * Example:\n",
    "\n",
    "     ```python\n",
    "     from pydantic import BaseModel\n",
    "\n",
    "     class User(BaseModel):\n",
    "         id: int\n",
    "         name: str\n",
    "         email: str\n",
    "     ```\n",
    "\n",
    "     👉 Behind the scenes, this model can produce a **JSON Schema** like:\n",
    "\n",
    "     ```json\n",
    "     {\n",
    "       \"title\": \"User\",\n",
    "       \"type\": \"object\",\n",
    "       \"properties\": {\n",
    "         \"id\": {\"type\": \"integer\"},\n",
    "         \"name\": {\"type\": \"string\"},\n",
    "         \"email\": {\"type\": \"string\", \"format\": \"email\"}\n",
    "       },\n",
    "       \"required\": [\"id\", \"name\", \"email\"]\n",
    "     }\n",
    "     ```\n",
    "\n",
    "---\n",
    "\n",
    "2. **Self-documenting**\n",
    "\n",
    "   * You don’t need to write separate docs describing what fields your API expects.\n",
    "   * The schema itself **is the documentation** because it defines field types, required fields, and constraints.\n",
    "\n",
    "---\n",
    "\n",
    "3. **Same source of truth**\n",
    "\n",
    "   * Instead of writing separate definitions for backend, frontend, and database, you only write your **Pydantic model once**, and all others can be generated from it:\n",
    "\n",
    "     * **Client libraries** → auto-generate TypeScript clients from JSON Schema.\n",
    "     * **Frontend validation** → use JSON Schema to validate user input in forms.\n",
    "     * **Database schemas** → some tools can map JSON Schema to SQL/NoSQL schema.\n",
    "\n",
    "---\n",
    "\n",
    "✅ **In plain words**:\n",
    "When you define a Pydantic model, it not only validates your data in Python, but also produces a **universal blueprint (JSON Schema)**. This blueprint can be reused across backend, frontend, and even databases — meaning less duplication, fewer errors, and automatic documentation."
   ]
  },
  {
   "cell_type": "markdown",
   "id": "d0062215",
   "metadata": {},
   "source": [
    "Python’s `@dataclass` is perfect for simple data containers where you trust the input, but Pydantic excels when you need validation, serialization, and integration with web frameworks:"
   ]
  },
  {
   "cell_type": "code",
   "execution_count": 6,
   "id": "5f9cdb27",
   "metadata": {},
   "outputs": [],
   "source": [
    "from dataclasses import dataclass\n",
    "from pydantic import BaseModel\n",
    "\n",
    "# Dataclass: fast, simple, no validation\n",
    "@dataclass\n",
    "class UserDataclass:\n",
    "    name: str\n",
    "    age: int\n",
    "\n",
    "# Pydantic: validation, serialization, framework integration\n",
    "class UserPydantic(BaseModel):\n",
    "    name: str\n",
    "    age: int"
   ]
  },
  {
   "cell_type": "markdown",
   "id": "19b9ec87",
   "metadata": {},
   "source": [
    "Pydantic works best when you’re building APIs, processing external data, managing configuration, or any scenario where data validation failure should be caught early rather than causing mysterious bugs later. "
   ]
  },
  {
   "cell_type": "code",
   "execution_count": 1,
   "id": "3f2d76f8",
   "metadata": {},
   "outputs": [
    {
     "name": "stdout",
     "output_type": "stream",
     "text": [
      "User created: Arshnoor, Age: 24\n",
      "Model output: {'name': 'Arshnoor', 'email': 'arshnoor@gmail.com', 'age': 24, 'is_active': True, 'created_at': None}\n"
     ]
    }
   ],
   "source": [
    "from pydantic import BaseModel, EmailStr\n",
    "from typing import Optional\n",
    "from datetime import datetime\n",
    "\n",
    "class User(BaseModel):\n",
    "    name: str\n",
    "    email: EmailStr\n",
    "    age: int\n",
    "    is_active: bool = True\n",
    "    created_at: datetime = None\n",
    "    \n",
    "clean_data = {\n",
    "    \"name\": \"Arshnoor\",\n",
    "    \"email\": \"arshnoor@gmail.com\",\n",
    "    \"age\":24\n",
    "}\n",
    "\n",
    "user = User(**clean_data)\n",
    "print(f\"User created: {user.name}, Age: {user.age}\")\n",
    "print(f\"Model output: {user.model_dump()}\")"
   ]
  },
  {
   "cell_type": "markdown",
   "id": "108bc0d6",
   "metadata": {},
   "source": [
    "* Your User class inherits from BaseModel, which gives it all of Pydantic's validation and serialization capabilities. This inheritance turns a regular Python class into a data validation tool.\n",
    "\n",
    "* Default values: Fields like is_active: bool = True have default values. If you don't provide these fields when creating a user, Pydantic uses the defaults. The = None for created_at makes this field optional.\n",
    "\n",
    "* Model instantiation: When you call User(**clean_data), the ** unpacks your dictionary and passes each key-value pair as keyword arguments to the model constructor."
   ]
  },
  {
   "cell_type": "code",
   "execution_count": 3,
   "id": "ca682e31",
   "metadata": {},
   "outputs": [
    {
     "name": "stdout",
     "output_type": "stream",
     "text": [
      "Age type: <class 'int'>\n",
      "Is active type: <class 'bool'>\n"
     ]
    }
   ],
   "source": [
    "# Messy data that still works\n",
    "messy_data = {\n",
    "    \"name\": \"Bob Smith\",\n",
    "    \"email\": \"bob@company.com\",\n",
    "    \"age\": \"35\",  # String instead of int\n",
    "    \"is_active\": \"true\"  # String instead of bool\n",
    "}\n",
    "\n",
    "user = User(**messy_data)\n",
    "print(f\"Age type: {type(user.age)}\")  # <class 'int'>\n",
    "print(f\"Is active type: {type(user.is_active)}\")  # <class 'bool'>"
   ]
  },
  {
   "cell_type": "markdown",
   "id": "1d8b0248",
   "metadata": {},
   "source": [
    "When validation fails, Pydantic provides clear error messages:"
   ]
  },
  {
   "cell_type": "code",
   "execution_count": 4,
   "id": "70519590",
   "metadata": {},
   "outputs": [
    {
     "name": "stdout",
     "output_type": "stream",
     "text": [
      "1 validation error for User\n",
      "email\n",
      "  value is not a valid email address: An email address must have an @-sign. [type=value_error, input_value='not-an-email', input_type=str]\n"
     ]
    }
   ],
   "source": [
    "from pydantic import ValidationError\n",
    "\n",
    "try:\n",
    "    invalid_user = User(\n",
    "        name=\"\",\n",
    "        email=\"not-an-email\",\n",
    "        age=-5\n",
    "    )\n",
    "except ValidationError as e:\n",
    "    print(e)"
   ]
  },
  {
   "cell_type": "markdown",
   "id": "facd4de8",
   "metadata": {},
   "source": [
    "## BaseModel vs. data classes\n",
    "Understanding when to use Pydantic’s BaseModel versus Python's @dataclass helps you choose the right tool for each situation.\n",
    "\n",
    "Python dataclasses are perfect for simple data containers where you control the input:"
   ]
  },
  {
   "cell_type": "code",
   "execution_count": 6,
   "id": "0f6ce385",
   "metadata": {},
   "outputs": [],
   "source": [
    "from dataclasses import dataclass\n",
    "\n",
    "@dataclass\n",
    "class ProductDataclass:\n",
    "    name: str\n",
    "    price: float\n",
    "    in_stock: bool\n",
    "\n",
    "# Fast, simple, but no validation\n",
    "product = ProductDataclass(\"Laptop\", 999.99, True)\n",
    "\n",
    "# This also works, even though types are wrong:\n",
    "broken_product = ProductDataclass(123, \"expensive\", \"maybe\")"
   ]
  },
  {
   "cell_type": "markdown",
   "id": "2a06d4b5",
   "metadata": {},
   "source": [
    "Pydantic models add validation, serialization, and framework integration:\n"
   ]
  },
  {
   "cell_type": "code",
   "execution_count": 8,
   "id": "f0b2e76f",
   "metadata": {},
   "outputs": [
    {
     "name": "stdout",
     "output_type": "stream",
     "text": [
      "Validation caught the errors!\n"
     ]
    }
   ],
   "source": [
    "from pydantic import BaseModel, Field\n",
    "\n",
    "class ProductPydantic(BaseModel):\n",
    "   name: str = Field(min_length=1)\n",
    "   price: float = Field(gt=0)  # Must be greater than 0\n",
    "   in_stock: bool\n",
    "\n",
    "# Automatic validation prevents bad data\n",
    "try:\n",
    "   product = ProductPydantic(name=\"\", price=-10, in_stock=\"maybe\")\n",
    "except ValidationError as e:\n",
    "   print(\"Validation caught the errors!\")\n",
    "\n",
    "# Valid data works perfectly\n",
    "good_product = ProductPydantic(\n",
    "    name=\"Laptop\",\n",
    "    price=\"999.99\",  # String converted to float\n",
    "    in_stock=True\n",
    ")"
   ]
  },
  {
   "cell_type": "markdown",
   "id": "344c507b",
   "metadata": {},
   "source": [
    "When to choose each approach:\n",
    "\n",
    "* Use dataclasses for internal data structures, configuration objects, or when performance is critical and you trust your data sources\n",
    "* Use Pydantic for API endpoints, user input, external data parsing, or when you need JSON serialization\n",
    "\n",
    "Pydantic adds some overhead compared to dataclasses, but this cost is usually negligible compared to the bugs it prevents and the development time it saves. For web applications, the automatic integration with frameworks like FastAPI makes Pydantic the clear choice.\n",
    "\n",
    "The validation and serialization features become more valuable as your application grows. Starting with Pydantic models gives you a solid foundation that scales with your needs."
   ]
  },
  {
   "cell_type": "markdown",
   "id": "5fdf26f6",
   "metadata": {},
   "source": [
    "# Building Data Models With Pydantic\n",
    "\n",
    "## Field validation and constraints\n",
    "\n",
    "Pydantic’s `Field()` function transforms basic type hints into sophisticated validation rules that protect your application:"
   ]
  },
  {
   "cell_type": "code",
   "execution_count": 9,
   "id": "89adc4dc",
   "metadata": {},
   "outputs": [
    {
     "name": "stdout",
     "output_type": "stream",
     "text": [
      "Validation errors: 4 issues found\n"
     ]
    }
   ],
   "source": [
    "from pydantic import BaseModel, Field\n",
    "from decimal import Decimal\n",
    "from typing import Optional\n",
    "\n",
    "class Product(BaseModel):\n",
    "    name: str = Field(min_length=1, max_length=100)\n",
    "    price: Decimal = Field(gt=0, le=10000)  # Greater than 0, less than or equal to 10,000\n",
    "    description: Optional[str] = Field(None, max_length=500)\n",
    "    category: str = Field(..., pattern=r'^[A-Za-z\\s]+$')  # Only letters and spaces\n",
    "    stock_quantity: int = Field(ge=0)  # Greater than or equal to 0\n",
    "    is_available: bool = True\n",
    "\n",
    "# This works - all constraints satisfied\n",
    "valid_product = Product(\n",
    "    name=\"Wireless Headphones\",\n",
    "    price=\"199.99\",  # String converted to Decimal\n",
    "    description=\"High-quality wireless headphones\",\n",
    "    category=\"Electronics\",\n",
    "    stock_quantity=50\n",
    ")\n",
    "\n",
    "# This fails with clear error messages\n",
    "try:\n",
    "    invalid_product = Product(\n",
    "        name=\"\",  # Too short\n",
    "        price=-50,  # Negative price\n",
    "        category=\"Electronics123\",  # Contains numbers\n",
    "        stock_quantity=-5  # Negative stock\n",
    "    )\n",
    "except ValidationError as e:\n",
    "    print(f\"Validation errors: {len(e.errors())} issues found\")"
   ]
  },
  {
   "cell_type": "markdown",
   "id": "b0ce1388",
   "metadata": {},
   "source": [
    "Each `Field()` parameter serves a specific purpose: min_length and max_length prevent database schema violations, gt and le create business logic boundaries, and pattern validates formatted data using regular expressions. The `Field(...)` syntax with ellipsis marks the required fields, while `Field(None, ...)` creates optional fields with validation rules."
   ]
  },
  {
   "cell_type": "markdown",
   "id": "c64b23ed",
   "metadata": {},
   "source": [
    "# Type coercion vs strict validation\n",
    "\n",
    "By default, Pydantic converts compatible types rather than rejecting them outright. This flexibility works well for user input, but some scenarios demand exact type matching:\n",
    "\n",
    "### 🔹 Type coercion (default in Pydantic)\n",
    "\n",
    "* **Meaning**: Pydantic will *try to convert* the input into the right type if it’s compatible.\n",
    "* It’s forgiving → “I’ll make it work if I can.”\n",
    "\n",
    "Example:\n",
    "\n",
    "```python\n",
    "from pydantic import BaseModel\n",
    "\n",
    "class User(BaseModel):\n",
    "    age: int\n",
    "\n",
    "user = User(age=\"25\")   # string \"25\"\n",
    "print(user.age)         # 👉 25 (converted to int)\n",
    "```\n",
    "\n",
    "Here `\"25\"` (string) was automatically **coerced** into an `int`.\n",
    "\n",
    "---\n",
    "\n",
    "### 🔹 Strict validation\n",
    "\n",
    "* **Meaning**: Pydantic will *reject* the input if the type doesn’t match exactly.\n",
    "* It’s strict → “If it’s not the right type, I’ll throw an error.”\n",
    "\n",
    "Example:\n",
    "\n",
    "```python\n",
    "from pydantic import BaseModel, StrictInt\n",
    "\n",
    "class User(BaseModel):\n",
    "    age: StrictInt\n",
    "\n",
    "user = User(age=\"25\")   # ❌ raises ValidationError\n",
    "```\n",
    "\n",
    "Here `\"25\"` is a string, not an int → so it fails.\n",
    "\n",
    "---\n",
    "\n",
    "### ✅ Why this matters\n",
    "\n",
    "* **Type coercion** → great for handling messy user input (like from web forms, APIs, CSVs).\n",
    "* **Strict validation** → important when data *must be exact* (e.g., financial transactions, database constraints, security-sensitive inputs).\n",
    "\n",
    "---\n",
    "\n",
    "👉 **In simple terms**:\n",
    "\n",
    "* *Type coercion* = “I’ll fix it for you if possible.”\n",
    "* *Strict validation* = “Only exact matches allowed.”\n",
    "\n",
    "---\n",
    "\n",
    "Do you want me to also show you **how to toggle between these two behaviors** project-wide (not just per field)?\n"
   ]
  },
  {
   "cell_type": "code",
   "execution_count": null,
   "id": "d34997ec",
   "metadata": {},
   "outputs": [],
   "source": [
    "from pydantic import BaseModel, Field, ValidationError\n",
    "\n",
    "# Default: lenient type coercion\n",
    "class FlexibleOrder(BaseModel):\n",
    "    order_id: int\n",
    "    total_amount: float\n",
    "    is_paid: bool\n",
    "\n",
    "# These all work due to automatic conversion\n",
    "flexible_order = FlexibleOrder(\n",
    "    order_id=\"12345\",  # String to int\n",
    "    total_amount=\"99.99\",  # String to float\n",
    "    is_paid=\"true\"  # String to bool\n",
    ")\n",
    "\n",
    "# Strict validation when precision matters\n",
    "class StrictOrder(BaseModel):\n",
    "    model_config = {\"str_strip_whitespace\": True, \"validate_assignment\": True}\n",
    "    order_id: int = Field(strict=True)\n",
    "    total_amount: float = Field(strict=True)\n",
    "    is_paid: bool = Field(strict=True)"
   ]
  },
  {
   "cell_type": "markdown",
   "id": "d9ab088b",
   "metadata": {},
   "source": [
    "# Nested models and complex data"
   ]
  },
  {
   "cell_type": "code",
   "execution_count": null,
   "id": "3afcc978",
   "metadata": {},
   "outputs": [
    {
     "name": "stdout",
     "output_type": "stream",
     "text": [
      "Order validated with 2 items\n"
     ]
    }
   ],
   "source": [
    "from typing import List\n",
    "from datetime import datetime\n",
    "\n",
    "class Address(BaseModel):\n",
    "   street: str = Field(min_length=5)\n",
    "   city: str = Field(min_length=2)\n",
    "   postal_code: str = Field(pattern=r'^\\d{5}(-\\d{4})?$')\n",
    "   country: str = \"USA\"\n",
    "\n",
    "class Customer(BaseModel):\n",
    "   name: str = Field(min_length=1)\n",
    "   email: EmailStr\n",
    "   shipping_address: Address\n",
    "   billing_address: Optional[Address] = None\n",
    "\n",
    "class OrderItem(BaseModel):\n",
    "   product_id: int = Field(gt=0)\n",
    "   quantity: int = Field(gt=0, le=100)\n",
    "   unit_price: Decimal = Field(gt=0)\n",
    "\n",
    "class Order(BaseModel):\n",
    "   order_id: str = Field(pattern=r'^ORD-\\d{6}$')\n",
    "   customer: Customer\n",
    "   items: List[OrderItem] = Field(min_items=1)\n",
    "   order_date: datetime = Field(default_factory=datetime.now)\n",
    "\n",
    "# Complex nested data validation\n",
    "order_data = {\n",
    "    \"order_id\": \"ORD-123456\",\n",
    "    \"customer\": {\n",
    "        \"name\": \"John Doe\",\n",
    "        \"email\": \"john@example.com\",\n",
    "        \"shipping_address\": {\n",
    "            \"street\": \"123 Main Street\",\n",
    "            \"city\": \"Anytown\",\n",
    "            \"postal_code\": \"12345\"\n",
    "        }\n",
    "    },\n",
    "    \"items\": [\n",
    "        {\"product_id\": 1, \"quantity\": 2, \"unit_price\": \"29.99\"},\n",
    "        {\"product_id\": 2, \"quantity\": 1, \"unit_price\": \"149.99\"}\n",
    "    ]\n",
    "}\n",
    "\n",
    "order = Order(**order_data)\n",
    "print(f\"Order validated with {len(order.items)} items\")"
   ]
  },
  {
   "cell_type": "markdown",
   "id": "a18a6641",
   "metadata": {},
   "source": [
    "# Optional fields and None handling"
   ]
  },
  {
   "cell_type": "code",
   "execution_count": null,
   "id": "a1836d0b",
   "metadata": {},
   "outputs": [
    {
     "name": "stdout",
     "output_type": "stream",
     "text": [
      "Fields to update: ['name', 'age']\n"
     ]
    },
    {
     "ename": "",
     "evalue": "",
     "output_type": "error",
     "traceback": [
      "\u001b[1;31mThe Kernel crashed while executing code in the current cell or a previous cell. \n",
      "\u001b[1;31mPlease review the code in the cell(s) to identify a possible cause of the failure. \n",
      "\u001b[1;31mClick <a href='https://aka.ms/vscodeJupyterKernelCrash'>here</a> for more info. \n",
      "\u001b[1;31mView Jupyter <a href='command:jupyter.viewOutput'>log</a> for further details."
     ]
    }
   ],
   "source": [
    "from typing import Optional\n",
    "\n",
    "class UserCreate(BaseModel):\n",
    "   name: str = Field(min_length=1)\n",
    "   email: EmailStr\n",
    "   age: int = Field(ge=13, le=120)\n",
    "   phone: Optional[str] = Field(None, pattern=r'^\\+?1?\\d{9,15}$')\n",
    "\n",
    "class UserUpdate(BaseModel):\n",
    "   name: Optional[str] = Field(None, min_length=1)\n",
    "   email: Optional[EmailStr] = None\n",
    "   age: Optional[int] = Field(None, ge=13, le=120)\n",
    "   phone: Optional[str] = Field(None, pattern=r'^\\+?1?\\d{9,15}$')\n",
    "\n",
    "# PATCH request with partial data\n",
    "update_data = {\"name\": \"Jane Smith\", \"age\": 30}\n",
    "user_update = UserUpdate(**update_data)\n",
    "\n",
    "# Serialize only provided fields\n",
    "patch_data = user_update.model_dump(exclude_none=True)\n",
    "print(f\"Fields to update: {list(patch_data.keys())}\")"
   ]
  },
  {
   "cell_type": "markdown",
   "id": "7d0f410b",
   "metadata": {},
   "source": [
    "Serialization converts Pydantic objects back into dictionaries or JSON strings for storage or transmission. The model_dump() method handles this conversion, with exclude_none=True removing unprovided fields. This pattern works perfectly for PATCH requests where clients send only the fields they want to change, preventing accidental data overwrites in your database.\n",
    "\n",
    "\n",
    "### 🔹 What is **serialization** in Pydantic?\n",
    "\n",
    "* **Serialization** = turning a Python object (like a Pydantic model) into a format that can be stored or sent over the network (like a `dict` or `JSON`).\n",
    "* Think of it as *“packing”* your Python object into a standard format.\n",
    "\n",
    "---\n",
    "\n",
    "### 🔹 `model_dump()` in action\n",
    "\n",
    "```python\n",
    "from pydantic import BaseModel\n",
    "\n",
    "class User(BaseModel):\n",
    "    name: str\n",
    "    email: str | None = None\n",
    "    age: int | None = None\n",
    "\n",
    "# Client only sends \"name\"\n",
    "user = User(name=\"Alice Johnson\")\n",
    "\n",
    "# Convert to dict\n",
    "print(user.model_dump())  \n",
    "# 👉 {'name': 'Alice Johnson', 'email': None, 'age': None}\n",
    "\n",
    "# Convert to dict but skip empty/None fields\n",
    "print(user.model_dump(exclude_none=True))  \n",
    "# 👉 {'name': 'Alice Johnson'}\n",
    "```\n",
    "\n",
    "---\n",
    "\n",
    "### 🔹 Why `exclude_none=True` matters\n",
    "\n",
    "Imagine you’re doing a **PATCH request** (update only some fields in the database).\n",
    "\n",
    "* Without `exclude_none=True` → missing fields (like `email`, `age`) might get written as `NULL` in your database, wiping out real data.\n",
    "* With `exclude_none=True` → only the fields actually provided (`name` in this case) are updated, so nothing else is touched.\n",
    "\n",
    "---\n",
    "\n",
    "👉 **In simple terms**:\n",
    "\n",
    "* `model_dump()` = turns your Pydantic model into a safe dictionary/JSON.\n",
    "* `exclude_none=True` = don’t include empty fields, so you don’t accidentally overwrite existing data.\n",
    "* Perfect for **PATCH requests** where you only want to update specific fields.\n",
    "\n",
    "\n",
    "More details here: https://www.datacamp.com/tutorial/pydantic\n"
   ]
  },
  {
   "cell_type": "code",
   "execution_count": null,
   "id": "94e01976",
   "metadata": {},
   "outputs": [],
   "source": []
  }
 ],
 "metadata": {
  "kernelspec": {
   "display_name": ".venv",
   "language": "python",
   "name": "python3"
  },
  "language_info": {
   "codemirror_mode": {
    "name": "ipython",
    "version": 3
   },
   "file_extension": ".py",
   "mimetype": "text/x-python",
   "name": "python",
   "nbconvert_exporter": "python",
   "pygments_lexer": "ipython3",
   "version": "3.11.9"
  }
 },
 "nbformat": 4,
 "nbformat_minor": 5
}
